{
  "nbformat": 4,
  "nbformat_minor": 0,
  "metadata": {
    "accelerator": "GPU",
    "colab": {
      "name": "generate_posts_GPT2.ipynb",
      "provenance": [],
      "collapsed_sections": [],
      "authorship_tag": "ABX9TyMS9vwc7E4+AmkoH7WSq6Sf",
      "include_colab_link": true
    },
    "kernelspec": {
      "display_name": "Python 3",
      "name": "python3"
    },
    "language_info": {
      "name": "python"
    }
  },
  "cells": [
    {
      "cell_type": "markdown",
      "metadata": {
        "id": "view-in-github",
        "colab_type": "text"
      },
      "source": [
        "<a href=\"https://colab.research.google.com/github/AmeerAlkhier/GPT2/blob/main/generate_posts_GPT2.ipynb\" target=\"_parent\"><img src=\"https://colab.research.google.com/assets/colab-badge.svg\" alt=\"Open In Colab\"/></a>"
      ]
    },
    {
      "cell_type": "markdown",
      "metadata": {
        "id": "r3xdtWs7e8iu"
      },
      "source": [
        "Necessary imports "
      ]
    },
    {
      "cell_type": "code",
      "metadata": {
        "id": "Wtu9bY9sebjZ"
      },
      "source": [
        "%tensorflow_version 1.x\n",
        "!pip install -q gpt-2-simple\n",
        "import gpt_2_simple as gpt2\n",
        "from datetime import datetime\n",
        "from google.colab import files"
      ],
      "execution_count": null,
      "outputs": []
    },
    {
      "cell_type": "markdown",
      "metadata": {
        "id": "Lh8BHkC9e38-"
      },
      "source": [
        "Verifying which GPU is active "
      ]
    },
    {
      "cell_type": "code",
      "metadata": {
        "id": "VcuV8LBJetNc"
      },
      "source": [
        "!nvidia-smi"
      ],
      "execution_count": null,
      "outputs": []
    },
    {
      "cell_type": "markdown",
      "metadata": {
        "id": "Vw48GmwBfMjP"
      },
      "source": [
        "Download GPT-2 (Medium model 355)"
      ]
    },
    {
      "cell_type": "code",
      "metadata": {
        "colab": {
          "background_save": true
        },
        "id": "KBgkmLs2fL2d",
        "outputId": "34c861bb-0151-4d20-c6d0-eefabb4dd4b8"
      },
      "source": [
        "gpt2.download_gpt2(model_name=\"355M\")"
      ],
      "execution_count": null,
      "outputs": [
        {
          "name": "stderr",
          "output_type": "stream",
          "text": [
            "Fetching checkpoint: 1.05Mit [00:00, 384Mit/s]                                                      \n",
            "Fetching encoder.json: 1.05Mit [00:00, 7.75Mit/s]\n",
            "Fetching hparams.json: 1.05Mit [00:00, 301Mit/s]                                                    \n",
            "Fetching model.ckpt.data-00000-of-00001: 1.42Git [00:31, 45.7Mit/s]                                 \n",
            "Fetching model.ckpt.index: 1.05Mit [00:00, 279Mit/s]                                                \n",
            "Fetching model.ckpt.meta: 1.05Mit [00:00, 6.77Mit/s]\n",
            "Fetching vocab.bpe: 1.05Mit [00:00, 7.10Mit/s]\n"
          ]
        }
      ]
    },
    {
      "cell_type": "markdown",
      "metadata": {
        "id": "ABY4VrVBfgS1"
      },
      "source": [
        "Mounting Google Drive"
      ]
    },
    {
      "cell_type": "code",
      "metadata": {
        "colab": {
          "background_save": true
        },
        "id": "Qjx5BLdpfgbN",
        "outputId": "0e8ec7ab-328a-404e-f5d3-add659dbdf56"
      },
      "source": [
        "gpt2.mount_gdrive()"
      ],
      "execution_count": null,
      "outputs": [
        {
          "name": "stdout",
          "output_type": "stream",
          "text": [
            "Mounted at /content/drive\n"
          ]
        }
      ]
    },
    {
      "cell_type": "markdown",
      "metadata": {
        "id": "QMaQqSZZfno4"
      },
      "source": [
        "reading the txt file"
      ]
    },
    {
      "cell_type": "code",
      "metadata": {
        "colab": {
          "background_save": true
        },
        "id": "d8o7-w2jfnwY"
      },
      "source": [
        "file_name =\"myposts.txt\""
      ],
      "execution_count": null,
      "outputs": []
    },
    {
      "cell_type": "code",
      "metadata": {
        "colab": {
          "background_save": true
        },
        "id": "fwtOCkIvf34Q"
      },
      "source": [
        "gpt2.copy_file_from_gdrive(file_name)"
      ],
      "execution_count": null,
      "outputs": []
    },
    {
      "cell_type": "markdown",
      "metadata": {
        "id": "VS9c1cjrgK6A"
      },
      "source": [
        "Training the model"
      ]
    },
    {
      "cell_type": "code",
      "metadata": {
        "colab": {
          "background_save": true
        },
        "id": "OwJWn-8TgKO5",
        "outputId": "acb74bae-365b-46f5-99b0-5ff93f087143"
      },
      "source": [
        "sess = gpt2.start_tf_sess()\n",
        "\n",
        "gpt2.finetune(sess,\n",
        "              dataset=file_name,\n",
        "              model_name='355M',\n",
        "              steps=5000,\n",
        "              restore_from='fresh',\n",
        "              run_name='run2',\n",
        "              print_every=100,\n",
        "              sample_every=999,\n",
        "              save_every=1000\n",
        "              )"
      ],
      "execution_count": null,
      "outputs": [
        {
          "name": "stdout",
          "output_type": "stream",
          "text": [
            "WARNING:tensorflow:From /usr/local/lib/python3.7/dist-packages/gpt_2_simple/src/sample.py:17: where (from tensorflow.python.ops.array_ops) is deprecated and will be removed in a future version.\n",
            "Instructions for updating:\n",
            "Use tf.where in 2.0, which has the same broadcast rule as np.where\n",
            "WARNING:tensorflow:From /usr/local/lib/python3.7/dist-packages/gpt_2_simple/src/memory_saving_gradients.py:62: get_backward_walk_ops (from tensorflow.contrib.graph_editor.select) is deprecated and will be removed after 2019-06-06.\n",
            "Instructions for updating:\n",
            "Please use tensorflow.python.ops.op_selector.get_backward_walk_ops.\n",
            "Loading checkpoint models/355M/model.ckpt\n",
            "INFO:tensorflow:Restoring parameters from models/355M/model.ckpt\n"
          ]
        },
        {
          "name": "stderr",
          "output_type": "stream",
          "text": [
            "100%|██████████| 1/1 [00:00<00:00, 192.31it/s]"
          ]
        },
        {
          "name": "stdout",
          "output_type": "stream",
          "text": [
            "Loading dataset...\n"
          ]
        },
        {
          "name": "stderr",
          "output_type": "stream",
          "text": [
            "\n"
          ]
        },
        {
          "name": "stdout",
          "output_type": "stream",
          "text": [
            "dataset has 45251 tokens\n",
            "Training...\n",
            "[100 | 163.01] loss=1.72 avg=1.72\n",
            "[200 | 324.39] loss=0.69 avg=1.20\n",
            "[300 | 487.65] loss=0.51 avg=0.97\n",
            "[400 | 650.72] loss=0.11 avg=0.75\n",
            "[500 | 813.43] loss=0.08 avg=0.61\n",
            "[600 | 976.52] loss=0.15 avg=0.53\n",
            "[700 | 1139.50] loss=0.08 avg=0.47\n",
            "[800 | 1302.34] loss=0.13 avg=0.42\n",
            "[900 | 1465.31] loss=0.05 avg=0.38\n",
            "======== SAMPLE 1 ========\n",
            "ة أنه ؟\n",
            "يجد المدمن بما هو الصورة في الأمر انه يستطيع التغريب على اكتش يستمع شكل كلي حيث يستطيع هو الشخص على أن يتلبس الشديد في نفس الوقت ؟؟!\n",
            "#قل_لا_للمخدرات\n",
            "#المخدرات_طريق_الحسراتسبحان اللهاخواني حذارٍ حذارٍ ... الجوال (والذنوب) الذي في جيبك يسبب الإدمان والمدمنين لا يعون ما يحدث حولهم ...\n",
            "فيديو توعوي لمخاطر الجوال .\n",
            "#قل_لا_للمخدرات\n",
            "#المخدرات_طريق_الحسراتتزوجها تحب العدس فعاشقات القبور والماء كون الحلف يستطيع هناك انك انك لم تعاطي حبوب الحشيش المسرطن بشكل مفرط..\n",
            "#قل_لا_للمخدرات\n",
            "#المخدرات_طريق_الحسراتتزوجها أيضا... حيث لدي بحكم تنزان ماء الجوال (والذنوب على العقل و المجتمعات يستطيع حبوب الحشيش المخدرة اخرى حبوب الحشيش غير مخدر أو ما يعرف بالجوال).\n",
            "فـجرع ما هذه مجرد أحلام و سيجا لم تكون تأتي كون الشخص وتظهر ماء الجوال .\n",
            "#قل_لا_للمخدرات\n",
            "#المخدرات_طريق_الحسرات❗شاه الدواء المماروكم اعتبار هذه النبتة المتسخة للحقن و أجزاء من حبوب الحشيش المسرطن ❗ تعتقد انه يكون بالجوالة عن طريقة تعاطي حبوب الحشيش المسرطن أو ما يعرف بالجوالة اختيادية عن أميرك بدون سبب.\n",
            "يتم تعلم حقنةTovábbiak الولاية الوقت و الوقات الوقت\n",
            "\n",
            "[1000 | 1650.63] loss=0.02 avg=0.34\n",
            "Saving checkpoint/run2/model-1000\n",
            "[1100 | 1821.50] loss=0.05 avg=0.31\n",
            "[1200 | 1984.83] loss=0.03 avg=0.29\n",
            "[1300 | 2148.46] loss=0.04 avg=0.27\n",
            "[1400 | 2312.25] loss=0.04 avg=0.25\n",
            "[1500 | 2475.52] loss=0.02 avg=0.24\n",
            "[1600 | 2638.85] loss=0.05 avg=0.22\n",
            "[1700 | 2802.50] loss=0.04 avg=0.21\n",
            "[1800 | 2966.01] loss=0.03 avg=0.20\n",
            "[1900 | 3130.06] loss=0.04 avg=0.19\n",
            "======== SAMPLE 1 ========\n",
            " دفاعله باستنشاقها لتعاطي وتحول عن القيام و نحوه ؟؟!\n",
            "انظر متعاطي الغصائرTovábbiak الى الأخافي الجديد بالاضافة لأثر من انعدام الى شعور بالاضافة لاي شكل من الحرم مادة الحادثة و انها قد تكون منها أو حقنا لها اساس من الحافش حلوب الحشيش المسرطن...\n",
            "● و من قال في الاعْباء الشيطان الثالانية و من قد يكون الولاد الصغيرة و اعذروني نفس الضحك و قال في الجسم بيد الله قابل الجنس بالقرب من المخاطر مسؤوله لا يعطي ولا يحاول عن القياهم و قد يكون الضحك والله قابل الاعتبارة على التحققق الأسنان و بالاضافة لتعاطيه لافراز الحشيش المسرطن...\n",
            "● و من قال في المقطع الفنانين و التواصل العزب والحشيش المسرطنة و قال لناوية التعاطي المخدرات فقد قابل الجنس بالفديو وقابل التجاه اللاتة في الجسم .. يعنا يستطيع الحشيش يدعى القرصا الجسم ..\n",
            "● يا إلا على الجسماء الذي يجعله يستطيع الحشيش في السحر الأسود أو ما يعرف بالفودو المنتشر بكثرة في أميركا الوسطى في الشارع و الاضطرار الى التفكير خارج الصندوق ( وفي الخارج حرفيا ) لتخديد أو أحد الأولايات الحامل و Továbbiak منها الخطير مها استهدام الحافظ الينمان ويكافرات الحاول و السحر الأسود أو أحد المجرم حيث لتعاطي نحو الوجه حيواني يحاولون عن أمراض اللغة.\n",
            "#قل_لا_للم\n",
            "\n",
            "[2000 | 3314.18] loss=0.04 avg=0.18\n",
            "Saving checkpoint/run2/model-2000\n",
            "WARNING:tensorflow:From /tensorflow-1.15.2/python3.7/tensorflow_core/python/training/saver.py:963: remove_checkpoint (from tensorflow.python.training.checkpoint_management) is deprecated and will be removed in a future version.\n",
            "Instructions for updating:\n",
            "Use standard file APIs to delete files with this prefix.\n",
            "[2100 | 3484.45] loss=0.04 avg=0.18\n",
            "[2200 | 3648.18] loss=0.05 avg=0.17\n",
            "[2300 | 3812.21] loss=0.09 avg=0.17\n",
            "[2400 | 3975.76] loss=0.04 avg=0.16\n",
            "[2500 | 4139.41] loss=0.01 avg=0.15\n",
            "[2600 | 4303.24] loss=0.02 avg=0.15\n",
            "[2700 | 4466.77] loss=0.04 avg=0.14\n",
            "[2800 | 4630.39] loss=0.03 avg=0.14\n",
            "[2900 | 4794.47] loss=0.04 avg=0.13\n",
            "======== SAMPLE 1 ========\n",
            "�و قد يخطر ببالك و ضرره أكبر بأثيرا ميوله الجنسية الشا.ذة.\n",
            "\n",
            "■ طبعا هكذا مشاكل لا تحل بهذه البساطة ..بعد انحراف فضل في الوسط الفني و تعاطي مسحوق الحشيش المخدر متى الأخضار موجودها الى السطح كنني أقزlم الانتياب بسبب قلب الاوقت بسرطن بعد تعاطي الحشيش المخدر متى الأخباء مما أدى الى المصادفة و المضافة بسبب قلب الاوقت عن التعاطي و الحقيقة و هي مضاف انعدام الحشيش عندها .\n",
            "#قل_لا_للمخدرات\n",
            "#المخدرات_طريق_الحسراتصباح الخير أحبائي ....\n",
            "سوف اخصص منشورات اليوم عن ذلك بشكل كورو.نا في بعض الأحباء بعد بتعاطي نبات الحشيش المسرطن الكثيف؟ هل هي مخصصة حالة من أمراض اللحم الفاسد في سجناء الحراس في بادئ الحشيش المخدر أو ما يعرف بالغانجا اي ما يساوي ٤٠ في المئة من غابة حشيش جباء الحشيش المخدر ببعضها في بحتلول الشباب الصغير في التهريب..\n",
            "#قل_لا_للمخدرات\n",
            "#المخدرات_طريق_الحسراتتزوجها تحب العدس فعاشقات النمورة بحالة من العمه البصرية فيفقدّو لأحد أعصائهم سبب اختيار على الأحدوم مثل المجموعات و المحيط:\n",
            "أعزائي متابعي الصفحة ؉ العيونة و أكثر معا هذه الحالة من مضيعة و أكثر معا هو نبات الحشيش المسرطن المريحواناTovábbiak في ستاد أحد كون الشبا�\n",
            "\n",
            "[3000 | 4978.57] loss=0.04 avg=0.13\n",
            "Saving checkpoint/run2/model-3000\n",
            "interrupted\n",
            "Saving checkpoint/run2/model-3039\n"
          ]
        }
      ]
    },
    {
      "cell_type": "markdown",
      "metadata": {
        "id": "n0PQ_qkjgem4"
      },
      "source": [
        "Saving the weights to upload and use later "
      ]
    },
    {
      "cell_type": "code",
      "metadata": {
        "colab": {
          "background_save": true
        },
        "id": "U2YRxea6gevO"
      },
      "source": [
        "gpt2.copy_checkpoint_to_gdrive(run_name='run2')"
      ],
      "execution_count": null,
      "outputs": []
    }
  ]
}